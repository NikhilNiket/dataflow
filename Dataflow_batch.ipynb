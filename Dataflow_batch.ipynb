{
  "nbformat": 4,
  "nbformat_minor": 0,
  "metadata": {
    "colab": {
      "name": "Dataflow_batch.ipynb",
      "provenance": [],
      "collapsed_sections": []
    },
    "kernelspec": {
      "name": "python3",
      "display_name": "Python 3"
    },
    "language_info": {
      "name": "python"
    }
  },
  "cells": [
    {
      "cell_type": "code",
      "execution_count": null,
      "metadata": {
        "id": "yeeCQG8yf3Zs"
      },
      "outputs": [],
      "source": [
        "import apache_beam as beam\n",
        "import argparse\n",
        "from apache_beam.options.pipeline_options import PipelineOptions\n",
        "from sys import argv\n",
        "\n",
        "PROJECT_ID = 'learn-gcp-337405'\n",
        "\n",
        "SCHEMA = 'Branch:STRING,Gender:STRING,Product line:STRING,Unit price:FLOAT,Quantity:INTEGER,Total:FLOAT,Date:STRING,Payment:STRING'\t\n",
        "\n",
        "def discard_incomplete(data):\n",
        "    \"\"\"Filters out records that don't have an information.\"\"\"\n",
        "    return len(data['Invoice ID']) > 0 and len(data['Date']) > 0 and len(data['Product line']) > 0 and len(data['Time']) > 0\n",
        "\n",
        "def convert_types(data):\n",
        "    \"\"\"Converts string values to their appropriate type.\"\"\"\n",
        "    data['Invoice ID'] = str(data['Invoice ID']) if 'Invoice ID' in data else None\n",
        "    data['Branch'] = str(data['Branch']) if 'Branch' in data else None\n",
        "    data['City'] = str(data['City']) if 'City' in data else None\n",
        "    data['Customer type'] = str(data['Customer type']) if 'Customer type' in data else None\n",
        "    data['Gender'] = str(data['Gender']) if 'Gender' in data else None\n",
        "\n",
        "    data['Product line'] = str(data['Product line']) if 'Product line' in data else None\n",
        "    data['Unit price'] = float(data['Unit price']) if 'Unit price' in data else None\n",
        "    data['Quantity'] = int(data['Quantity']) if 'Quantity' in data else None\n",
        "    data['Tax 5%'] = float(data['Tax 5%']) if 'Tax 5%' in data else None\n",
        "\n",
        "    data['Total'] = float(data['Total']) if 'Total' in data else None\n",
        "    data['Date'] = str(data['Date']) if 'Date' in data else None\n",
        "    data['Time'] = str(data['Time']) if 'Time' in data else None\n",
        "    data['Payment'] = str(data['Payment']) if 'Payment' in data else None\n",
        "    data['cogs'] = float(data['cogs']) if 'cogs' in data else None\n",
        "    data['gross margin percentage'] = float(data['gross margin percentage']) if 'gross margin percentage' in data else None\n",
        "    data['gross income'] = float(data['gross income']) if 'gross income' in data else None\n",
        "    data['Rating'] = float(data['Rating']) if 'Rating' in data else None\n",
        "\n",
        "    return data\n",
        "\n",
        "def del_unwanted_cols(data):\n",
        "    \"\"\"Delete the unwanted columns\"\"\"\n",
        "    del data['Invoice ID']\n",
        "    del data['City']\n",
        "    del data['Customer type']\n",
        "    del data['Tax 5%']\n",
        "    del data['Time']\n",
        "    del data['cogs']\n",
        "    del data['gross margin percentage']\n",
        "    del data['Rating']\n",
        "    return data\n",
        "\n",
        "if __name__ == '__main__':\n",
        "\n",
        "    parser = argparse.ArgumentParser()\n",
        "    known_args = parser.parse_known_args(argv)\n",
        "\n",
        "    p = beam.Pipeline(options=PipelineOptions())\n",
        "\n",
        "    (p | 'ReadData' >> beam.io.ReadFromText('gs://dataflow_8787/supermarket_sales .csv', skip_header_lines =1)\n",
        "       | 'SplitData' >> beam.Map(lambda x: x.split(','))\n",
        "       | 'FormatToDict' >> beam.Map(lambda x: {\"Invoice ID\": x[0], \"Branch\": x[1], \"City\": x[2], \"Customer type\": x[3], \"Gender\": x[4], \"Product line\": x[5], \"Unit price\": x[6], \"Quantity\": x[7], \"Tax 5%\": x[8], \"Total\": x[9], \"Date\": x[10], \"Time\": x[11], \"Payment\": x[12], \"cogs\": x[13], \"gross margin percentage\": x[14], \"gross income\": x[15], \"Rating\": x[16] }) \n",
        "       | 'DeleteIncompleteData' >> beam.Filter(discard_incomplete)\n",
        "       | 'ChangeDataType' >> beam.Map(convert_types)\n",
        "       | 'DeleteUnwantedData' >> beam.Map(del_unwanted_cols)\n",
        "       | 'WriteToBigQuery' >> beam.io.WriteToBigQuery(\n",
        "           '{0}:beer.sales_data'.format(PROJECT_ID),\n",
        "           schema=SCHEMA,\n",
        "           write_disposition=beam.io.BigQueryDisposition.WRITE_APPEND))\n",
        "    result = p.run()"
      ]
    },
    {
      "cell_type": "markdown",
      "source": [
        ""
      ],
      "metadata": {
        "id": "ERejFiTxlvRE"
      }
    }
  ]
}